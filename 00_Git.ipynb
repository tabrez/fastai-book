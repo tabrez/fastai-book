{
 "cells": [
  {
   "cell_type": "code",
   "execution_count": null,
   "metadata": {},
   "outputs": [],
   "source": [
    "!mkdir -p /root/.ssh\n",
    "!cp id_ed25519 /root/.ssh/\n",
    "!ssh-keyscan -t ed25519 github.com >> ~/.ssh/known_hosts\n",
    "!chmod go-rwx /root/.ssh/id_ed25519\n",
    "\n",
    "!git clone git@github.com:tabrez/fastai-book.git"
   ]
  },
  {
   "cell_type": "code",
   "execution_count": null,
   "metadata": {},
   "outputs": [],
   "source": [
    "## debug ssh issues\n",
    "## https://docs.github.com/en/authentication/troubleshooting-ssh/error-permission-denied-publickey\n",
    " \n",
    "#!pwd && ls -l /root/.ssh && cat /root/.ssh/known_hosts\n",
    "#!ssh -vT git@github.com\n",
    "#!ssh -T git@github.com\n",
    "#!eval \"$(ssh-agent -s)\"\n",
    "#!ssh-add /root/.ssh/id_ed25519"
   ]
  }
 ],
 "metadata": {
  "language_info": {
   "name": "python"
  },
  "orig_nbformat": 4
 },
 "nbformat": 4,
 "nbformat_minor": 2
}
