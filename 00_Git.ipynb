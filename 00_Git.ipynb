{
 "cells": [
  {
   "cell_type": "code",
   "execution_count": null,
   "metadata": {},
   "outputs": [],
   "source": [
    "!mkdir -p /root/.ssh\n",
    "!cp id_ed /root/.ssh/\n",
    "!ssh-keyscan -t ed25519 github.com >> ~/.ssh/known_hosts\n",
    "!chmod go-rwx /root/.ssh/id_ed\n",
    "\n",
    "!git clone git@github.com:tabrez/fastai-book.git"
   ]
  }
 ],
 "metadata": {
  "language_info": {
   "name": "python"
  },
  "orig_nbformat": 4
 },
 "nbformat": 4,
 "nbformat_minor": 2
}
