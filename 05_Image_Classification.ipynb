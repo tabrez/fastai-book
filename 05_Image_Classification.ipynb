{
 "cells": [
  {
   "cell_type": "code",
   "execution_count": 1,
   "id": "6nOMlyGtBJbS",
   "metadata": {
    "execution": {
     "iopub.execute_input": "2023-08-06T12:18:12.418621Z",
     "iopub.status.busy": "2023-08-06T12:18:12.418445Z",
     "iopub.status.idle": "2023-08-06T12:18:12.421116Z",
     "shell.execute_reply": "2023-08-06T12:18:12.420664Z",
     "shell.execute_reply.started": "2023-08-06T12:18:12.418602Z"
    },
    "id": "6nOMlyGtBJbS"
   },
   "outputs": [],
   "source": [
    "# !pip install -Uqq fastbook nbdev ipywidgets"
   ]
  },
  {
   "cell_type": "code",
   "execution_count": 12,
   "id": "281dd3ab-7acf-4b08-b799-3108d8e2ecef",
   "metadata": {
    "execution": {
     "iopub.execute_input": "2023-08-06T13:09:49.157815Z",
     "iopub.status.busy": "2023-08-06T13:09:49.157664Z",
     "iopub.status.idle": "2023-08-06T13:09:49.161194Z",
     "shell.execute_reply": "2023-08-06T13:09:49.160765Z",
     "shell.execute_reply.started": "2023-08-06T13:09:49.157802Z"
    },
    "id": "281dd3ab-7acf-4b08-b799-3108d8e2ecef",
    "tags": []
   },
   "outputs": [
    {
     "name": "stdout",
     "output_type": "stream",
     "text": [
      "fastai version: 2.7.12\n"
     ]
    }
   ],
   "source": [
    "import fastbook\n",
    "fastbook.setup_book()\n",
    "from fastbook import *\n",
    "from fastai.vision.widgets import *\n",
    "import fastai\n",
    "print(f'fastai version: {fastai.__version__}')\n",
    "\n",
    "import warnings\n",
    "warnings.filterwarnings(\"ignore\", message=\"The parameter 'pretrained' is deprecated since 0.13 and may be removed in the future, please use 'weights' instead.\")\n",
    "warnings.filterwarnings(\"ignore\", message=\"Arguments other than a weight enum or `None` for 'weights' are deprecated since 0.13 and may be removed in the future. The current behavior is equivalent to passing `weights=ResNet34_Weights.IMAGENET1K_V1`. You can also use `weights=ResNet34_Weights.DEFAULT` to get the most up-to-date weights.\")\n",
    "\n",
    "# BASE_DIR='/content/gdrive/MyDrive/Colab Notebooks'\n",
    "BASE_DIR='/home/tabrez/MEGA/MEGA/code/fastai-book'\n",
    "#!ln -sf '/content/gdrive/MyDrive/Colab Notebooks' ~/.fastai"
   ]
  },
  {
   "cell_type": "code",
   "execution_count": 2,
   "id": "-eSGLLIifI46",
   "metadata": {
    "execution": {
     "iopub.execute_input": "2023-08-06T12:22:05.896652Z",
     "iopub.status.busy": "2023-08-06T12:22:05.896260Z",
     "iopub.status.idle": "2023-08-06T12:57:28.494996Z",
     "shell.execute_reply": "2023-08-06T12:57:28.494564Z",
     "shell.execute_reply.started": "2023-08-06T12:22:05.896637Z"
    },
    "id": "-eSGLLIifI46",
    "tags": []
   },
   "outputs": [
    {
     "data": {
      "text/html": [
       "\n",
       "<style>\n",
       "    /* Turns off some styling */\n",
       "    progress {\n",
       "        /* gets rid of default border in Firefox and Opera. */\n",
       "        border: none;\n",
       "        /* Needs to be in here for Safari polyfill so background images work as expected. */\n",
       "        background-size: auto;\n",
       "    }\n",
       "    progress:not([value]), progress:not([value])::-webkit-progress-bar {\n",
       "        background: repeating-linear-gradient(45deg, #7e7e7e, #7e7e7e 10px, #5c5c5c 10px, #5c5c5c 20px);\n",
       "    }\n",
       "    .progress-bar-interrupted, .progress-bar-interrupted::-webkit-progress-bar {\n",
       "        background: #F44336;\n",
       "    }\n",
       "</style>\n"
      ],
      "text/plain": [
       "<IPython.core.display.HTML object>"
      ]
     },
     "metadata": {},
     "output_type": "display_data"
    },
    {
     "data": {
      "text/html": [
       "\n",
       "    <div>\n",
       "      <progress value='811712512' class='' max='811706944' style='width:300px; height:20px; vertical-align: middle;'></progress>\n",
       "      100.00% [811712512/811706944 35:17&lt;00:00]\n",
       "    </div>\n",
       "    "
      ],
      "text/plain": [
       "<IPython.core.display.HTML object>"
      ]
     },
     "metadata": {},
     "output_type": "display_data"
    },
    {
     "data": {
      "text/plain": [
       "(Path('/home/tabrez/.fastai/data/oxford-iiit-pet'), 7393, 7390)"
      ]
     },
     "execution_count": 2,
     "metadata": {},
     "output_type": "execute_result"
    }
   ],
   "source": [
    "path = untar_data(URLs.PETS)\n",
    "# !ls -l ~/.fastai/data/oxf*/images | head\n",
    "path , len((path/'images').ls()), len(get_image_files(path/'images'))"
   ]
  },
  {
   "cell_type": "code",
   "execution_count": 3,
   "id": "38888ed2-46e6-458b-ba51-2d23b94a73bc",
   "metadata": {
    "execution": {
     "iopub.execute_input": "2023-08-06T12:57:55.338223Z",
     "iopub.status.busy": "2023-08-06T12:57:55.338071Z",
     "iopub.status.idle": "2023-08-06T12:57:57.463244Z",
     "shell.execute_reply": "2023-08-06T12:57:57.462705Z",
     "shell.execute_reply.started": "2023-08-06T12:57:55.338210Z"
    },
    "id": "38888ed2-46e6-458b-ba51-2d23b94a73bc",
    "tags": []
   },
   "outputs": [],
   "source": [
    "def label_func(fname):\n",
    "  return'_'.join(fname.name.split('_')[:-1])\n",
    "\n",
    "db = DataBlock(blocks=(ImageBlock, CategoryBlock),\n",
    "               get_items = get_image_files,\n",
    "               splitter = RandomSplitter(valid_pct=0.2, seed=42),\n",
    "               get_y = label_func,\n",
    "               item_tfms=Resize(446),\n",
    "               batch_tfms=aug_transforms(size=244, min_scale=0.75))\n",
    "# db.summary(path/'images')\n",
    "dls = db.dataloaders(path/'images')"
   ]
  },
  {
   "cell_type": "code",
   "execution_count": 4,
   "id": "pCUbB4zXQc13",
   "metadata": {
    "execution": {
     "iopub.execute_input": "2023-08-06T12:58:02.494733Z",
     "iopub.status.busy": "2023-08-06T12:58:02.494535Z",
     "iopub.status.idle": "2023-08-06T12:58:02.821497Z",
     "shell.execute_reply": "2023-08-06T12:58:02.820982Z",
     "shell.execute_reply.started": "2023-08-06T12:58:02.494718Z"
    },
    "id": "pCUbB4zXQc13",
    "tags": []
   },
   "outputs": [
    {
     "data": {
      "text/plain": [
       "(64, 64, torch.Size([64, 3, 244, 244]), torch.Size([64]))"
      ]
     },
     "execution_count": 4,
     "metadata": {},
     "output_type": "execute_result"
    }
   ],
   "source": [
    "len(dls.train), len(dls.train_ds), len(dls.valid), len(dls.valid_ds)\n",
    "x, y = dls.one_batch()\n",
    "len(x), len(y), x.shape, y.shape\n",
    "\n",
    "# Learner.save and Learner.load use the default path based on following fields\n",
    "# learn.path, learn.model_dir"
   ]
  },
  {
   "cell_type": "code",
   "execution_count": null,
   "id": "AepegliBRDGA",
   "metadata": {
    "id": "AepegliBRDGA",
    "tags": []
   },
   "outputs": [],
   "source": [
    "learn = vision_learner(dls, resnet34, metrics=error_rate)\n",
    "\n",
    "import time\n",
    "start_time = time.time()\n",
    "## Fine tune the model if no saves are available to load\n",
    "# learn.fine_tune(2)## Save the model & weights so we can load it later without incurring processing costs again and again\n",
    "learn.save(file=Path(f'{BASE_DIR}/saves/oxford-iiit-pet'))\n",
    "print(\"--- %s seconds ---\" % (time.time() - start_time))\n",
    "\n",
    "## Save the model & weights so we can load it later without incurring processing costs again and again\n",
    "#learn.save(file=Path(f'{BASE_DIR}/saves/oxford-iiit-pet'))\n",
    "\n",
    "## Load the model & weights from the file if they've been saved before\n",
    "learn.load(file=Path(f'{BASE_DIR}/saves/oxford-iiit-pet'))"
   ]
  },
  {
   "cell_type": "code",
   "execution_count": 17,
   "id": "guHum1b5zDf9",
   "metadata": {
    "execution": {
     "iopub.execute_input": "2023-08-06T13:11:41.986543Z",
     "iopub.status.busy": "2023-08-06T13:11:41.986128Z",
     "iopub.status.idle": "2023-08-06T13:12:40.909477Z",
     "shell.execute_reply": "2023-08-06T13:12:40.909058Z",
     "shell.execute_reply.started": "2023-08-06T13:11:41.986529Z"
    },
    "id": "guHum1b5zDf9",
    "tags": []
   },
   "outputs": [
    {
     "data": {
      "text/html": [
       "\n",
       "<style>\n",
       "    /* Turns off some styling */\n",
       "    progress {\n",
       "        /* gets rid of default border in Firefox and Opera. */\n",
       "        border: none;\n",
       "        /* Needs to be in here for Safari polyfill so background images work as expected. */\n",
       "        background-size: auto;\n",
       "    }\n",
       "    progress:not([value]), progress:not([value])::-webkit-progress-bar {\n",
       "        background: repeating-linear-gradient(45deg, #7e7e7e, #7e7e7e 10px, #5c5c5c 10px, #5c5c5c 20px);\n",
       "    }\n",
       "    .progress-bar-interrupted, .progress-bar-interrupted::-webkit-progress-bar {\n",
       "        background: #F44336;\n",
       "    }\n",
       "</style>\n"
      ],
      "text/plain": [
       "<IPython.core.display.HTML object>"
      ]
     },
     "metadata": {},
     "output_type": "display_data"
    },
    {
     "data": {
      "text/html": [
       "<table border=\"1\" class=\"dataframe\">\n",
       "  <thead>\n",
       "    <tr style=\"text-align: left;\">\n",
       "      <th>epoch</th>\n",
       "      <th>train_loss</th>\n",
       "      <th>valid_loss</th>\n",
       "      <th>error_rate</th>\n",
       "      <th>time</th>\n",
       "    </tr>\n",
       "  </thead>\n",
       "  <tbody>\n",
       "    <tr>\n",
       "      <td>0</td>\n",
       "      <td>2.681761</td>\n",
       "      <td>6.949239</td>\n",
       "      <td>0.598782</td>\n",
       "      <td>00:17</td>\n",
       "    </tr>\n",
       "  </tbody>\n",
       "</table>"
      ],
      "text/plain": [
       "<IPython.core.display.HTML object>"
      ]
     },
     "metadata": {},
     "output_type": "display_data"
    },
    {
     "data": {
      "text/html": [
       "\n",
       "<style>\n",
       "    /* Turns off some styling */\n",
       "    progress {\n",
       "        /* gets rid of default border in Firefox and Opera. */\n",
       "        border: none;\n",
       "        /* Needs to be in here for Safari polyfill so background images work as expected. */\n",
       "        background-size: auto;\n",
       "    }\n",
       "    progress:not([value]), progress:not([value])::-webkit-progress-bar {\n",
       "        background: repeating-linear-gradient(45deg, #7e7e7e, #7e7e7e 10px, #5c5c5c 10px, #5c5c5c 20px);\n",
       "    }\n",
       "    .progress-bar-interrupted, .progress-bar-interrupted::-webkit-progress-bar {\n",
       "        background: #F44336;\n",
       "    }\n",
       "</style>\n"
      ],
      "text/plain": [
       "<IPython.core.display.HTML object>"
      ]
     },
     "metadata": {},
     "output_type": "display_data"
    },
    {
     "data": {
      "text/html": [
       "<table border=\"1\" class=\"dataframe\">\n",
       "  <thead>\n",
       "    <tr style=\"text-align: left;\">\n",
       "      <th>epoch</th>\n",
       "      <th>train_loss</th>\n",
       "      <th>valid_loss</th>\n",
       "      <th>error_rate</th>\n",
       "      <th>time</th>\n",
       "    </tr>\n",
       "  </thead>\n",
       "  <tbody>\n",
       "    <tr>\n",
       "      <td>0</td>\n",
       "      <td>4.155255</td>\n",
       "      <td>3.893214</td>\n",
       "      <td>0.880244</td>\n",
       "      <td>00:20</td>\n",
       "    </tr>\n",
       "    <tr>\n",
       "      <td>1</td>\n",
       "      <td>2.666315</td>\n",
       "      <td>1.881500</td>\n",
       "      <td>0.566982</td>\n",
       "      <td>00:20</td>\n",
       "    </tr>\n",
       "  </tbody>\n",
       "</table>"
      ],
      "text/plain": [
       "<IPython.core.display.HTML object>"
      ]
     },
     "metadata": {},
     "output_type": "display_data"
    }
   ],
   "source": [
    "## The Learning Rate Finder\n",
    "learn2 = vision_learner(dls, resnet34, metrics=error_rate)\n",
    "#learn2.fine_tune(2, base_lr=0.1)"
   ]
  },
  {
   "cell_type": "code",
   "execution_count": 18,
   "id": "KmSMY2IPgTKB",
   "metadata": {
    "execution": {
     "iopub.execute_input": "2023-08-06T13:13:10.135027Z",
     "iopub.status.busy": "2023-08-06T13:13:10.134855Z",
     "iopub.status.idle": "2023-08-06T13:13:10.372027Z",
     "shell.execute_reply": "2023-08-06T13:13:10.371522Z",
     "shell.execute_reply.started": "2023-08-06T13:13:10.135011Z"
    },
    "id": "KmSMY2IPgTKB",
    "tags": []
   },
   "outputs": [
    {
     "data": {
      "text/plain": [
       "Path('/home/tabrez/MEGA/MEGA/code/fastai-book/saves/oxford-iiit-pet-lr-find.pth')"
      ]
     },
     "execution_count": 18,
     "metadata": {},
     "output_type": "execute_result"
    }
   ],
   "source": [
    "#learn2.save(file=Path(f'{BASE_DIR}/saves/oxford-iiit-pet-lr-find'))\n",
    "learn2.load(file=Path(f'{BASE_DIR}/saves/oxford-iiit-pet-lr-find'))"
   ]
  },
  {
   "cell_type": "code",
   "execution_count": null,
   "id": "bQe7qKJDpi0e",
   "metadata": {
    "execution": {
     "iopub.status.busy": "2023-08-06T12:18:15.780913Z",
     "iopub.status.idle": "2023-08-06T12:18:15.781235Z",
     "shell.execute_reply": "2023-08-06T12:18:15.781150Z",
     "shell.execute_reply.started": "2023-08-06T12:18:15.781138Z"
    },
    "id": "bQe7qKJDpi0e"
   },
   "outputs": [],
   "source": [
    "lr_finder = learn2.lr_find()\n",
    "lr_finder"
   ]
  },
  {
   "cell_type": "code",
   "execution_count": 19,
   "id": "DboSpmDbuhpj",
   "metadata": {
    "execution": {
     "iopub.execute_input": "2023-08-06T14:01:34.589220Z",
     "iopub.status.busy": "2023-08-06T14:01:34.589073Z",
     "iopub.status.idle": "2023-08-06T14:01:34.605707Z",
     "shell.execute_reply": "2023-08-06T14:01:34.605237Z",
     "shell.execute_reply.started": "2023-08-06T14:01:34.589208Z"
    },
    "id": "DboSpmDbuhpj",
    "tags": []
   },
   "outputs": [
    {
     "ename": "NameError",
     "evalue": "name 'lr_finder' is not defined",
     "output_type": "error",
     "traceback": [
      "\u001b[0;31m---------------------------------------------------------------------------\u001b[0m",
      "\u001b[0;31mNameError\u001b[0m                                 Traceback (most recent call last)",
      "Cell \u001b[0;32mIn[19], line 1\u001b[0m\n\u001b[0;32m----> 1\u001b[0m lr_min \u001b[38;5;241m=\u001b[39m \u001b[43mlr_finder\u001b[49m\u001b[38;5;241m.\u001b[39mlr_min\n\u001b[1;32m      2\u001b[0m lr_steep \u001b[38;5;241m=\u001b[39m lr_finder\u001b[38;5;241m.\u001b[39mlr_steep\n\u001b[1;32m      3\u001b[0m \u001b[38;5;28mprint\u001b[39m(\u001b[38;5;124mf\u001b[39m\u001b[38;5;124m'\u001b[39m\u001b[38;5;124mmin: \u001b[39m\u001b[38;5;132;01m{\u001b[39;00mlr_min\u001b[38;5;132;01m}\u001b[39;00m\u001b[38;5;124m, steep: \u001b[39m\u001b[38;5;132;01m{\u001b[39;00mlr_steep\u001b[38;5;132;01m}\u001b[39;00m\u001b[38;5;124m'\u001b[39m)\n",
      "\u001b[0;31mNameError\u001b[0m: name 'lr_finder' is not defined"
     ]
    }
   ],
   "source": [
    "lr_min = lr_finder.lr_min\n",
    "lr_steep = lr_finder.lr_steep\n",
    "print(f'min: {lr_min}, steep: {lr_steep}')"
   ]
  }
 ],
 "metadata": {
  "accelerator": "GPU",
  "colab": {
   "gpuType": "T4",
   "private_outputs": true,
   "provenance": []
  },
  "kernelspec": {
   "display_name": "Python 3 (ipykernel)",
   "language": "python",
   "name": "python3"
  },
  "language_info": {
   "codemirror_mode": {
    "name": "ipython",
    "version": 3
   },
   "file_extension": ".py",
   "mimetype": "text/x-python",
   "name": "python",
   "nbconvert_exporter": "python",
   "pygments_lexer": "ipython3",
   "version": "3.10.12"
  }
 },
 "nbformat": 4,
 "nbformat_minor": 5
}
