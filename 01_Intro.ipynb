{
 "cells": [
  {
   "cell_type": "code",
   "execution_count": null,
   "metadata": {
    "id": "pesRGTDpc1Kt"
   },
   "outputs": [],
   "source": [
    "!pip install -Uqq fastbook nbdev ipywidgets\n",
    "import fastbook\n",
    "fastbook.setup_book()\n",
    "from fastbook import *\n",
    "from fastai.vision.all import *"
   ]
  },
  {
   "cell_type": "code",
   "execution_count": null,
   "metadata": {
    "id": "dyvicZPpi0cB"
   },
   "outputs": [],
   "source": [
    "# doc(untar_data)\n",
    "# URLs.PETS\n",
    "doc(ImageDataLoaders.from_name_func)\n",
    "doc(get_image_files)\n",
    "doc(vision_learner)\n",
    "doc(SegmentationDataLoaders.from_label_func)"
   ]
  },
  {
   "cell_type": "code",
   "execution_count": null,
   "metadata": {
    "id": "j6yWp5EIeNG3"
   },
   "outputs": [],
   "source": [
    "#id first_training\n",
    "#caption Results from the first training\n",
    "# CLICK ME\n",
    "from fastai.vision.all import *\n",
    "path = untar_data(URLs.PETS)/'images'\n",
    "\n",
    "def is_cat(x): return x[0].isupper()\n",
    "dls_img = ImageDataLoaders.from_name_func(\n",
    "    path, get_image_files(path), valid_pct=0.2, seed=42,\n",
    "    label_func=is_cat, item_tfms=Resize(224))\n",
    "\n",
    "learn_img = vision_learner(dls_img, resnet34, metrics=error_rate)\n",
    "learn_img.fine_tune(1)"
   ]
  },
  {
   "cell_type": "code",
   "execution_count": null,
   "metadata": {
    "id": "eLkoTmAWdMYV"
   },
   "outputs": [],
   "source": [
    "# img = PILImage.create(get_image_files(path)[1])\n",
    "# img.to_thumb(192)\n",
    "uploader = widgets.FileUpload()\n",
    "uploader"
   ]
  },
  {
   "cell_type": "code",
   "execution_count": null,
   "metadata": {
    "id": "_FHTum1CexlY"
   },
   "outputs": [],
   "source": [
    "img = PILImage.create(uploader.data[0])\n",
    "is_cat,_,probs = learn_img.predict(img)\n",
    "print(f'Is this a cat?: {is_cat}')\n",
    "print(f\"Probability it's a cat: {probs[1].item():.6f}\")"
   ]
  },
  {
   "cell_type": "code",
   "execution_count": null,
   "metadata": {
    "id": "d411D4HugRiG"
   },
   "outputs": [],
   "source": [
    "path = untar_data(URLs.CAMVID_TINY)\n",
    "dls_seg = SegmentationDataLoaders.from_label_func(\n",
    "    path, bs=8, fnames=get_image_files(path/\"images\"),\n",
    "    label_func = lambda o: path/'labels'/f'{o.stem}_P{o.suffix}',\n",
    "    codes = np.loadtxt(path/'codes.txt', dtype=str)\n",
    ")\n",
    "learn_seg = unet_learner(dls_seg, resnet34)\n",
    "learn_seg.fine_tune(8)"
   ]
  },
  {
   "cell_type": "code",
   "execution_count": null,
   "metadata": {
    "id": "TByVuTw1lKM9"
   },
   "outputs": [],
   "source": [
    "countx = 0\n",
    "for x, y in enumerate(dls_img[0]):\n",
    "  count = 0\n",
    "  print(f\"x: {x}\")\n",
    "  if countx >= 3:\n",
    "    break\n",
    "  countx = countx + 1\n",
    "  print(f'length of y[0][0]: {len(y[0][0])}')\n",
    "  for xx, xy in enumerate(y[0][0]):\n",
    "    if( count >= 5):\n",
    "      break\n",
    "    print(f\"xx: {xx}, xy: {xy}\")\n",
    "    count = count + 1"
   ]
  },
  {
   "cell_type": "code",
   "execution_count": null,
   "metadata": {
    "id": "DS_dJOpxg_-o"
   },
   "outputs": [],
   "source": [
    "learn_seg.show_results(max_n=6, figsize=(7,8))"
   ]
  },
  {
   "cell_type": "code",
   "execution_count": null,
   "metadata": {
    "id": "XObi2K7rkK-_"
   },
   "outputs": [],
   "source": [
    "from fastai.text.all import *\n",
    "\n",
    "dls_text = TextDataLoaders.from_folder(untar_data(URLs.IMDB), valid='test')\n",
    "learn_text = text_classifier_learner(dls_text, AWD_LSTM, drop_mult=0.5, metrics=accuracy)\n",
    "learn_text.fine_tune(4, 1e-2)"
   ]
  },
  {
   "cell_type": "code",
   "execution_count": null,
   "metadata": {
    "id": "J6HGB-BakdlM"
   },
   "outputs": [],
   "source": [
    "URLs.IMDB"
   ]
  },
  {
   "cell_type": "code",
   "execution_count": null,
   "metadata": {
    "id": "cZpfon1sx0qJ"
   },
   "outputs": [],
   "source": [
    "learn_text.predict(\"Babylon is a test of whether or not a film can be the sum of its gorgeous pieces. A great score, a talented ensemble, and expert cinematography—all are undeniable here. And yet there are narrative elements of Babylon that feel hollow from the very beginning and only get more so as Chazelle tries to inject some manipulative lessons into the final scenes.\")"
   ]
  },
  {
   "cell_type": "code",
   "execution_count": null,
   "metadata": {
    "id": "zbMc_Rr0638g"
   },
   "outputs": [],
   "source": [
    "# !unzip ./archive.zip\n"
   ]
  },
  {
   "cell_type": "code",
   "execution_count": null,
   "metadata": {
    "id": "NE0rmqCM_gKz"
   },
   "outputs": [],
   "source": [
    "# https://colab.research.google.com/notebooks/io.ipynb\n",
    "from google.colab import files\n",
    "\n",
    "uploaded = files.upload()\n",
    "\n",
    "for fn in uploaded.keys():\n",
    "  print('User uploaded file \"{name}\" with length {length} bytes'.format(\n",
    "      name=fn, length=len(uploaded[fn])))"
   ]
  },
  {
   "cell_type": "code",
   "execution_count": null,
   "metadata": {
    "id": "myM9mcia-uaQ"
   },
   "outputs": [],
   "source": [
    "path = Path(\"/content/cricket-football-baseball\")\n",
    "print(f'path: {path}')\n",
    "len(get_image_files(path))\n",
    "path.ls()"
   ]
  },
  {
   "cell_type": "code",
   "execution_count": null,
   "metadata": {
    "id": "7l3w6EJmBNn0"
   },
   "outputs": [],
   "source": [
    "files = get_image_files(path)\n",
    "print(f'number of files: {len(files)}')\n",
    "\n",
    "def get_label(path):\n",
    "  print(f'path: {path}')\n",
    "  return path.parent.name"
   ]
  },
  {
   "cell_type": "code",
   "execution_count": null,
   "metadata": {
    "id": "40oneDjjCgZu"
   },
   "outputs": [],
   "source": [
    "dls_img2 = ImageDataLoaders.from_folder(path, files, valid_pct=0.2, seed=42, label_func=get_label, item_tfms=Resize(224, Resize))\n",
    "print(f'lengths: {len(dls_img2.train_ds)}')\n",
    "x,y= dls_img2.one_batch()\n",
    "x.shape\n",
    "dls_img2.train.show_batch(max_n=4, nrows=1)"
   ]
  },
  {
   "cell_type": "code",
   "execution_count": null,
   "metadata": {
    "id": "xurb5vGiCrV_"
   },
   "outputs": [],
   "source": [
    "learn_img2 = vision_learner(dls_img2, resnet34, metrics=error_rate)\n",
    "learn_img2.fine_tune(1)"
   ]
  },
  {
   "cell_type": "code",
   "execution_count": null,
   "metadata": {
    "id": "srBWCR_aFgkD"
   },
   "outputs": [],
   "source": [
    "uploaded = widgets.FileUpload()\n"
   ]
  },
  {
   "cell_type": "code",
   "execution_count": null,
   "metadata": {
    "id": "cIWyGnIoFzQZ"
   },
   "outputs": [],
   "source": [
    "uploaded"
   ]
  },
  {
   "cell_type": "code",
   "execution_count": null,
   "metadata": {
    "id": "6ClJNAmLFsV5"
   },
   "outputs": [],
   "source": [
    "img = PILImage.create(uploaded.data[0])\n",
    "img.to_thumb(244)"
   ]
  },
  {
   "cell_type": "code",
   "execution_count": null,
   "metadata": {
    "id": "ZMYt0G7JGdHi"
   },
   "outputs": [],
   "source": [
    "learn_img2.predict(img)"
   ]
  }
 ],
 "metadata": {
  "accelerator": "GPU",
  "colab": {
   "authorship_tag": "ABX9TyN3k79laEAjObT97LHiMS6w",
   "gpuType": "T4",
   "private_outputs": true,
   "provenance": []
  },
  "kernelspec": {
   "display_name": "Python 3 (ipykernel)",
   "language": "python",
   "name": "python3"
  },
  "language_info": {
   "codemirror_mode": {
    "name": "ipython",
    "version": 3
   },
   "file_extension": ".py",
   "mimetype": "text/x-python",
   "name": "python",
   "nbconvert_exporter": "python",
   "pygments_lexer": "ipython3",
   "version": "3.11.4"
  }
 },
 "nbformat": 4,
 "nbformat_minor": 4
}
