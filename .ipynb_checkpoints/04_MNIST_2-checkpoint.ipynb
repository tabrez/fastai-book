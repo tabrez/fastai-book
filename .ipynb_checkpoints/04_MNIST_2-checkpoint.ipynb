{
 "cells": [
  {
   "cell_type": "code",
   "execution_count": 1,
   "metadata": {
    "id": "AwErIR3bzMUh",
    "tags": []
   },
   "outputs": [
    {
     "name": "stdout",
     "output_type": "stream",
     "text": [
      "using device: cuda:0\n"
     ]
    },
    {
     "data": {
      "text/html": [
       "\n",
       "<style>\n",
       "    /* Turns off some styling */\n",
       "    progress {\n",
       "        /* gets rid of default border in Firefox and Opera. */\n",
       "        border: none;\n",
       "        /* Needs to be in here for Safari polyfill so background images work as expected. */\n",
       "        background-size: auto;\n",
       "    }\n",
       "    progress:not([value]), progress:not([value])::-webkit-progress-bar {\n",
       "        background: repeating-linear-gradient(45deg, #7e7e7e, #7e7e7e 10px, #5c5c5c 10px, #5c5c5c 20px);\n",
       "    }\n",
       "    .progress-bar-interrupted, .progress-bar-interrupted::-webkit-progress-bar {\n",
       "        background: #F44336;\n",
       "    }\n",
       "</style>\n"
      ],
      "text/plain": [
       "<IPython.core.display.HTML object>"
      ]
     },
     "metadata": {},
     "output_type": "display_data"
    },
    {
     "data": {
      "text/html": [
       "\n",
       "    <div>\n",
       "      <progress value='3219456' class='' max='3214948' style='width:300px; height:20px; vertical-align: middle;'></progress>\n",
       "      100.14% [3219456/3214948 00:02&lt;00:00]\n",
       "    </div>\n",
       "    "
      ],
      "text/plain": [
       "<IPython.core.display.HTML object>"
      ]
     },
     "metadata": {},
     "output_type": "display_data"
    },
    {
     "name": "stdout",
     "output_type": "stream",
     "text": [
      "path.ls: [Path('/home/jovyan/work/data/mnist_sample/train'), Path('/home/jovyan/work/data/mnist_sample/valid'), Path('/home/jovyan/work/data/mnist_sample/labels.csv')], path.pwd: /home/jovyan/work/data/mnist_sample\n"
     ]
    }
   ],
   "source": [
    "## Install required pip packages, import needed libraries, mount google drive in colab notebooks,\n",
    "## set BASE_DIR, set device to cpu or gpu based on what's available, download dataset\n",
    "\n",
    "# !pip install -Uqq fastbook ipywidgets nbdev\n",
    "\n",
    "import fastbook\n",
    "fastbook.setup_book()\n",
    "from fastbook import *\n",
    "from fastai.vision.widgets import *\n",
    "\n",
    "# from google.colab import drive\n",
    "# drive.mount('/content/gdrive', force_remount=True)\n",
    "## your drive home will be at /content/gdrive/MyDrive/\n",
    "## your notebooks might be at /content/gdrive/MyDrive/Colab Notebooks/\n",
    "# BASE_DIR = \"/content/gdrive/MyDrive/Colab Notebooks/\"\n",
    "BASE_DIR = \"/home/jovyan/work\"\n",
    "\n",
    "## https://wandb.ai/wandb/common-ml-errors/reports/How-To-Use-GPU-with-PyTorch---VmlldzozMzAxMDk\n",
    "device = torch.device(\"cuda:0\" if torch.cuda.is_available() else \"cpu\")\n",
    "print(f'using device: {device}')\n",
    "\n",
    "# !export FASTAI_HOME=/home/jovyan/work\n",
    "path = untar_data(URLs.MNIST_SAMPLE, data=f'{BASE_DIR}/data')\n",
    "print(f'path.ls: {path.ls()}, path.pwd: {path}')"
   ]
  },
  {
   "cell_type": "code",
   "execution_count": 2,
   "metadata": {
    "id": "xJVei1jB0I0Q",
    "tags": []
   },
   "outputs": [
    {
     "name": "stdout",
     "output_type": "stream",
     "text": [
      "a: tensor([[1., 1.],\n",
      "        [1., 1.],\n",
      "        [1., 1.]]), \n",
      "b: tensor([[7, 7]]), \n",
      "cat(): tensor([[1., 1.],\n",
      "        [1., 1.],\n",
      "        [1., 1.],\n",
      "        [7., 7.]]), \n",
      "view(): tensor([[1., 1., 1., 1.],\n",
      "        [1., 1., 7., 7.]])\n",
      "t: tensor([1, 1, 1, 0, 0, 0, 0])\n",
      "unsqueeze(0): tensor([[1],\n",
      "        [1],\n",
      "        [1],\n",
      "        [0],\n",
      "        [0],\n",
      "        [0],\n",
      "        [0]])\n",
      "unsqueeze(1): tensor([[1, 1, 1, 0, 0, 0, 0]])\n"
     ]
    },
    {
     "data": {
      "text/plain": [
       "(tensor([[1., 1.],\n",
       "         [1., 1.],\n",
       "         [1., 1.]]),\n",
       " tensor(6.),\n",
       " tensor(1.))"
      ]
     },
     "execution_count": 2,
     "metadata": {},
     "output_type": "execute_result"
    }
   ],
   "source": [
    "## How do the pytorch functions cat(), view(), unsqueeze(), sum() and mean() work\n",
    "\n",
    "# ??torch.cat\n",
    "# ??torch.view\n",
    "# ??torch.unsqueeze\n",
    "# ??torch.sum\n",
    "# ??torch.mean\n",
    "\n",
    "\n",
    "a = torch.ones(3, 2)\n",
    "b = torch.full((1, 2), 7)\n",
    "c = torch.full((1, 4, 3), 3)\n",
    "print(f'a: {a}, \\nb: {b}, \\ncat(): {torch.cat([a, b])}, \\nview(): {torch.cat([a, b]).view(-1, 4)}')\n",
    "\n",
    "## valid values for unsqueeze in this example: -2 to 1\n",
    "t = tensor([1]*3 + [0]*4)\n",
    "print(f't: {t}')\n",
    "print(f'unsqueeze(0): {t.unsqueeze(1)}')\n",
    "print(f'unsqueeze(1): {t.unsqueeze(0)}')\n",
    "\n",
    "a, a.sum(), a.mean()"
   ]
  },
  {
   "cell_type": "code",
   "execution_count": 3,
   "metadata": {
    "id": "vmunicOYzUtK",
    "tags": []
   },
   "outputs": [],
   "source": [
    "## Convert MNIST data in folders to the format we need\n",
    "## 1. Open each image file as an Image object and convert it to tensors\n",
    "## 2. Convert a list of 2D tensors to a 3D tensor using stack(), normalise\n",
    "##     by converting each value to a float and dividing by max pixel value 255\n",
    "## 3. Concatenate all the tensors of 3s and 7s together and make 28x28 arrays\n",
    "##     into a 28*28 length list\n",
    "## 4. Creatae the labels such that we have 1 for image '3' and 0 for image '7'\n",
    "\n",
    "def filesToStackedTensors(d1, d2):\n",
    "  t = [tensor(Image.open(f)).to(device) for f in (path/d1/d2).ls().sorted()]\n",
    "  return torch.stack(t, 0).float()/255\n",
    "\n",
    "def x_y(stacked_x, stacked_y):\n",
    "  x = torch.cat([stacked_x, stacked_y]).view(-1, 28*28)\n",
    "  y = tensor([1]*len(stacked_x) + [0]*len(stacked_y)).unsqueeze(1).to(device)\n",
    "  return (x, y)"
   ]
  },
  {
   "cell_type": "code",
   "execution_count": 4,
   "metadata": {
    "id": "8MifxbiyzqbY",
    "tags": []
   },
   "outputs": [],
   "source": [
    "## set the values of train_x, train_y, valid_x and valid_y\n",
    "\n",
    "train_x, train_y = x_y(filesToStackedTensors('train', '3'), \\\n",
    "                       filesToStackedTensors('train', '7'))\n",
    "valid_x, valid_y = x_y(filesToStackedTensors('valid', '3'), \\\n",
    "                       filesToStackedTensors('valid', '7'))\n",
    "# train_x.shape, train_y.shape, valid_x.shape, valid_y.shape\n",
    "# print(f'x cuda? {train_x.is_cuda}')\n",
    "# print(f'y cuda? {train_y.is_cuda}')"
   ]
  },
  {
   "cell_type": "code",
   "execution_count": 5,
   "metadata": {},
   "outputs": [
    {
     "name": "stdout",
     "output_type": "stream",
     "text": [
      "x: tensor([[ 0.3367,  0.1288],\n",
      "        [ 0.2345,  0.2303],\n",
      "        [-1.1229, -0.1863]]), \n",
      "y: tensor([[1., 1.],\n",
      "        [1., 1.],\n",
      "        [1., 1.]])\n",
      "tensor([[1., 1.],\n",
      "        [1., 1.],\n",
      "        [0., 0.]])\n",
      "tensor([[0.3367, 0.1288],\n",
      "        [0.2345, 0.2303],\n",
      "        [1.0000, 1.0000]])\n"
     ]
    }
   ],
   "source": [
    "## How does pytorch function where() work\n",
    "## https://pytorch.org/docs/stable/generated/torch.where.html\n",
    "\n",
    "#??torch.where\n",
    "\n",
    "x = torch.randn(3, 2)\n",
    "y = torch.ones(3, 2)\n",
    "print(f'x: {x}, \\ny: {y}')\n",
    "print(torch.where(x > 0, 1.0, 0.0))\n",
    "print(torch.where(x > 0, x, y))"
   ]
  },
  {
   "cell_type": "code",
   "execution_count": 36,
   "metadata": {
    "id": "rJb62k2lNh6c",
    "tags": []
   },
   "outputs": [],
   "source": [
    "## define functions to represent the model(predictions), loss function(loss) and apply gradient descent algorithm\n",
    "## n number of times(apply_step & apply_steps)\n",
    "\n",
    "def predictions(x, w, b):\n",
    "  r = x@w + b\n",
    "  # print(f'r.grad_fn: {r.grad_fn}')\n",
    "  # print(f'r shape: {r.shape}, r: {r[0:4, 0:4]}')\n",
    "  # sums = (r.sum(1)).unsqueeze(1)\n",
    "  # print(f'sums.grad_fn: {sums.grad_fn}')\n",
    "  # print(f'sums shape: {sums.shape}, sums: {sums[0:4]}')\n",
    "  sig = torch.sigmoid(r)\n",
    "  # print(f'sig.grad_fn: {sig.grad_fn}')\n",
    "  # print(f'sig shape: {sig.shape}, sig: {sig[0:4]}')\n",
    "  # print(f'sig: {sig[0:4]}, sig.sum: {sig.sum()}')\n",
    "  return sig\n",
    "\n",
    "def loss_old(preds, y):\n",
    "  # print(f'preds: {preds[0:5]}')\n",
    "  # print(f'labels: {y[0:5]}')\n",
    "  # print(f'x shape: {preds.shape}, y shape: {y.shape}')\n",
    "  a = (preds - y).abs().mean()\n",
    "  # print(f'a.grad_fn: {a.grad_fn}')\n",
    "  # print(f'a: {a}')\n",
    "  return a\n",
    "\n",
    "def loss(preds, y):\n",
    "    return torch.where(y==1, 1-preds, preds).mean()\n",
    "# loss(predictions(train_x, w, b), train_y)\n",
    "\n",
    "def apply_step(i, x, y, w, b, lr):\n",
    "  preds = predictions(x, w, b)\n",
    "  # print(f'preds.grad_fn: {preds.grad_fn}')\n",
    "  # l = preds.backward()\n",
    "  l = loss(preds, y)\n",
    "  # print(f'l.grad_fn: {l.grad_fn}')\n",
    "  l.backward()\n",
    "  # print(f'w after backward: {w[0:1]}')\n",
    "  # print(f'w grads after backward: {w.grad.shape}, {w.grad[:,0:4]}')\n",
    "  # print(f'w.grad.data: {w.grad.data[0:3]}')\n",
    "  # print(f'before b.data: {b.data}')\n",
    "  # print(f'before b.grad: {b.grad.data}')\n",
    "  w.data = w.data - (w.grad.data * lr)\n",
    "  b.data = b.data - (b.grad.data * lr)\n",
    "  # print(f'after b.grad: {b.grad}')\n",
    "  w.grad = b.grad = None\n",
    "  return (w, b, l)\n",
    "\n",
    "def apply_steps(n, x, y, w, b, lr):\n",
    "  results = []\n",
    "  for i in range(n):\n",
    "    # print(f'before b: {b[0:5]}')\n",
    "    (w, b, l) = apply_step(i, x, y, w, b, lr)\n",
    "    results.append(l)\n",
    "    if(i % 100 == 0): print(f'loss at step({i}): {l}')\n",
    "    # print(f'after b: {b[0:5]}')\n",
    "  return (w, b, results)\n",
    "\n",
    "def differs(train_x, train_y, fw, fb):\n",
    "    p = predictions(train_x, fw, fb)\n",
    "    p = torch.where((p>0.9), 1, 0)\n",
    "    return torch.where(train_y==1, 1-p, p)"
   ]
  },
  {
   "cell_type": "code",
   "execution_count": 37,
   "metadata": {
    "id": "1VYnI4-KWeDP",
    "tags": []
   },
   "outputs": [
    {
     "name": "stdout",
     "output_type": "stream",
     "text": [
      "loss at step(0): 0.7012012004852295\n",
      "preds and train_y disagree in 6231 places after 1 iteration\n",
      "lr: 100\n",
      "loss at step(0): 0.5036811828613281\n",
      "loss at step(100): 0.015803484246134758\n",
      "loss at step(200): 0.012808160856366158\n",
      "loss at step(300): 0.010477516800165176\n",
      "loss at step(400): 0.009446528740227222\n",
      "loss at step(500): 0.008614790625870228\n",
      "loss at step(600): 0.008118981495499611\n",
      "loss at step(700): 0.007781636901199818\n",
      "loss at step(800): 0.007441655267030001\n",
      "loss at step(900): 0.0071980636566877365\n",
      "time: 0.3781430721282959\n",
      "preds and train_y disagree in 85 places after 1000 iterations\n"
     ]
    }
   ],
   "source": [
    "## Initialise parameters(w & b), initialise learning rates(lrs), call gradient descent algorithm\n",
    "\n",
    "g = torch.Generator()\n",
    "g.manual_seed(5)\n",
    "w = torch.randn((784, 1), generator=g).to(device).requires_grad_(True)\n",
    "# print(f'w: {w[0:1, 0:1]}')\n",
    "# print(f'w cuda? {w.is_cuda}')\n",
    "# print(f'w shape: {w.shape}, w: {w[0:4, 0:4]}')\n",
    "b = torch.randn(1, generator=g).to(device).requires_grad_(True)\n",
    "# print(f'b cuda? {b.is_cuda}')\n",
    "# print(f'len(b): {len(b)}, b: {b[0:9]}')\n",
    "\n",
    "# lrs = [0.001, 0.1, 1, 100, 10000, 100000]\n",
    "lrs = [100]\n",
    "fw, fb, _ = apply_steps(1, train_x, train_y, w, b, lrs[0])\n",
    "d = differs(train_x, train_y, fw, fb)\n",
    "print(f'preds and train_y disagree in {d.sum()} places after 1 iteration')\n",
    "\n",
    "import time\n",
    "start = time.time()\n",
    "for lr in lrs:\n",
    "  print(f'lr: {lr}')\n",
    "  fw, fb, _ = apply_steps(1000, train_x, train_y, w, b, lr)\n",
    "end = time.time()\n",
    "print(f'time: {end - start}')\n",
    "\n",
    "d = differs(train_x, train_y, fw, fb)\n",
    "print(f'preds and train_y disagree in {d.sum()} places after 1000 iterations')"
   ]
  },
  {
   "cell_type": "code",
   "execution_count": 52,
   "metadata": {
    "id": "OGqdsW4SQGJs",
    "tags": []
   },
   "outputs": [
    {
     "name": "stdout",
     "output_type": "stream",
     "text": [
      "top 10 indices where prediction is wrong: tensor([[  13,    0],\n",
      "        [ 178,    0],\n",
      "        [ 426,    0],\n",
      "        [ 434,    0],\n",
      "        [ 438,    0],\n",
      "        [ 463,    0],\n",
      "        [ 496,    0],\n",
      "        [ 677,    0],\n",
      "        [ 809,    0],\n",
      "        [1159,    0]], device='cuda:0')\n",
      "bottom 10 indices where prediction is wrong: tensor([[ 9302,     0],\n",
      "        [10056,     0],\n",
      "        [10157,     0],\n",
      "        [10163,     0],\n",
      "        [10292,     0],\n",
      "        [10626,     0],\n",
      "        [10762,     0],\n",
      "        [11063,     0],\n",
      "        [11225,     0],\n",
      "        [11650,     0]], device='cuda:0')\n",
      "d: 13, wrong predictions: tensor([0], device='cuda:0')\n",
      "d: 178, wrong predictions: tensor([0], device='cuda:0')\n",
      "d: 426, wrong predictions: tensor([0], device='cuda:0')\n",
      "d: 434, wrong predictions: tensor([0], device='cuda:0')\n",
      "d: 438, wrong predictions: tensor([0], device='cuda:0')\n",
      "d: 463, wrong predictions: tensor([0], device='cuda:0')\n",
      "d: 496, wrong predictions: tensor([0], device='cuda:0')\n",
      "d: 677, wrong predictions: tensor([0], device='cuda:0')\n",
      "d: 809, wrong predictions: tensor([0], device='cuda:0')\n",
      "d: 1159, wrong predictions: tensor([0], device='cuda:0')\n",
      "d: 9302, wrong predictions: tensor([1], device='cuda:0')\n",
      "d: 10056, wrong predictions: tensor([1], device='cuda:0')\n",
      "d: 10157, wrong predictions: tensor([1], device='cuda:0')\n",
      "d: 10163, wrong predictions: tensor([1], device='cuda:0')\n",
      "d: 10292, wrong predictions: tensor([1], device='cuda:0')\n",
      "d: 10626, wrong predictions: tensor([1], device='cuda:0')\n",
      "d: 10762, wrong predictions: tensor([1], device='cuda:0')\n",
      "d: 11063, wrong predictions: tensor([1], device='cuda:0')\n",
      "d: 11225, wrong predictions: tensor([1], device='cuda:0')\n",
      "d: 11650, wrong predictions: tensor([1], device='cuda:0')\n"
     ]
    },
    {
     "data": {
      "image/png": "[encoded data removed]",
      "text/plain": [
       "<Figure size 100x100 with 1 Axes>"
      ]
     },
     "metadata": {},
     "output_type": "display_data"
    },
    {
     "data": {
      "image/png": "[encoded data removed]",
      "text/plain": [
       "<Figure size 100x100 with 1 Axes>"
      ]
     },
     "metadata": {},
     "output_type": "display_data"
    },
    {
     "data": {
      "image/png": "[encoded data removed]",
      "text/plain": [
       "<Figure size 100x100 with 1 Axes>"
      ]
     },
     "metadata": {},
     "output_type": "display_data"
    },
    {
     "data": {
      "image/png": "[encoded data removed]",
      "text/plain": [
       "<Figure size 100x100 with 1 Axes>"
      ]
     },
     "metadata": {},
     "output_type": "display_data"
    },
    {
     "data": {
      "image/png": "[encoded data removed]",
      "text/plain": [
       "<Figure size 100x100 with 1 Axes>"
      ]
     },
     "metadata": {},
     "output_type": "display_data"
    },
    {
     "data": {
      "image/png": "[encoded data removed]",
      "text/plain": [
       "<Figure size 100x100 with 1 Axes>"
      ]
     },
     "metadata": {},
     "output_type": "display_data"
    },
    {
     "data": {
      "image/png": "[encoded data removed]",
      "text/plain": [
       "<Figure size 100x100 with 1 Axes>"
      ]
     },
     "metadata": {},
     "output_type": "display_data"
    },
    {
     "data": {
      "image/png": "[encoded data removed]",
      "text/plain": [
       "<Figure size 100x100 with 1 Axes>"
      ]
     },
     "metadata": {},
     "output_type": "display_data"
    },
    {
     "data": {
      "image/png": "[encoded data removed]",
      "text/plain": [
       "<Figure size 100x100 with 1 Axes>"
      ]
     },
     "metadata": {},
     "output_type": "display_data"
    },
    {
     "data": {
      "image/png": "[encoded data removed]",
      "text/plain": [
       "<Figure size 100x100 with 1 Axes>"
      ]
     },
     "metadata": {},
     "output_type": "display_data"
    },
    {
     "data": {
      "image/png": "[encoded data removed]",
      "text/plain": [
       "<Figure size 100x100 with 1 Axes>"
      ]
     },
     "metadata": {},
     "output_type": "display_data"
    },
    {
     "data": {
      "image/png": "[encoded data removed]",
      "text/plain": [
       "<Figure size 100x100 with 1 Axes>"
      ]
     },
     "metadata": {},
     "output_type": "display_data"
    },
    {
     "data": {
      "image/png": "[encoded data removed]",
      "text/plain": [
       "<Figure size 100x100 with 1 Axes>"
      ]
     },
     "metadata": {},
     "output_type": "display_data"
    },
    {
     "data": {
      "image/png": "[encoded data removed]",
      "text/plain": [
       "<Figure size 100x100 with 1 Axes>"
      ]
     },
     "metadata": {},
     "output_type": "display_data"
    },
    {
     "data": {
      "image/png": "[encoded data removed]",
      "text/plain": [
       "<Figure size 100x100 with 1 Axes>"
      ]
     },
     "metadata": {},
     "output_type": "display_data"
    },
    {
     "data": {
      "image/png": "[encoded data removed]",
      "text/plain": [
       "<Figure size 100x100 with 1 Axes>"
      ]
     },
     "metadata": {},
     "output_type": "display_data"
    },
    {
     "data": {
      "image/png": "[encoded data removed]",
      "text/plain": [
       "<Figure size 100x100 with 1 Axes>"
      ]
     },
     "metadata": {},
     "output_type": "display_data"
    },
    {
     "data": {
      "image/png": "[encoded data removed]",
      "text/plain": [
       "<Figure size 100x100 with 1 Axes>"
      ]
     },
     "metadata": {},
     "output_type": "display_data"
    },
    {
     "data": {
      "image/png": "[encoded data removed]",
      "text/plain": [
       "<Figure size 100x100 with 1 Axes>"
      ]
     },
     "metadata": {},
     "output_type": "display_data"
    },
    {
     "data": {
      "image/png": "[encoded data removed]",
      "text/plain": [
       "<Figure size 100x100 with 1 Axes>"
      ]
     },
     "metadata": {},
     "output_type": "display_data"
    }
   ],
   "source": [
    "## Analyse the results of gradient descent\n",
    "\n",
    "y = train_y\n",
    "\n",
    "# len(range(30)), len(results)\n",
    "# plt.scatter(range(30), to_np(fr))\n",
    "## get all predictions using the final values of w and b and round the values to 0 and 1\n",
    "# p = predictions(train_x, fw, fb)\n",
    "# p = torch.where((p>0.9), 1, 0)\n",
    "\n",
    "# print(f'type(p): {p.dtype}, len(p): {len(p)}, p.shape: {p.shape}, p: {p[12:45]}')\n",
    "# print(f'type(y): {train_y.dtype}, len(y): {len(train_y)}, train_y.shape: {train_y.shape}, y: {train_y[12:23]}')\n",
    "\n",
    "## find out the indices where p has values of 0\n",
    "zeroes = torch.nonzero(d)\n",
    "print(f'top 10 indices where prediction is wrong: {zeroes[0:10]}')\n",
    "print(f'bottom 10 indices where prediction is wrong: {zeroes[-10:]}')\n",
    "\n",
    "## find out what y has when p has zeroes, change indices as per result of above code\n",
    "# print(f'p 13: {p[13].data}, 22: {p[178].data} 34: {p[274].data}')\n",
    "# print(f'1-p 13: {1-p[13]}, 22: {1-p[178]} 34: {1-p[274]}')\n",
    "# print(f'y 13: {y[13]}, 22: {y[178]}, 34: {y[274]}')\n",
    "\n",
    "## find out how many zeroes are there in p\n",
    "# print(f'number of 1s, 0s in predictions and len(p): {p.sum()}, {(1-p).abs().sum()}, {len(p)}')\n",
    "\n",
    "# diffs = torch.where(y==1, 1-p, p).abs().sum()\n",
    "# print(f'preds and y disagree in {diffs} places')\n",
    "\n",
    "# diff = (p <= 0.5).float().sum()\n",
    "# type(diff), len(diff), diff.shape, diff\n",
    "# diff, len(train_y), loss(p, train_y)\n",
    "\n",
    "# p[0], train_y[0], p[0] - train_y[0]\n",
    "# diffs = torch.nonzero((p < 0.5).float().unbind(1)[0])\n",
    "trx = [Image.open(f) for f in (path/'train'/'3').ls().sorted()] + [Image.open(f) for f in (path/'train'/'7').ls().sorted()]\n",
    "## try = [Image.open(f) for f in (path/'train'/'7').ls().sorted()]\n",
    "\n",
    "p = predictions(train_x, fw, fb)\n",
    "p = torch.where((p>0.9), 1, 0)\n",
    "\n",
    "def images():\n",
    "  ## print indices of images that are 3 but are predicted as not 3 (assuming first 10 incorrect predictions are 3s)\n",
    "  for d, _ in zeroes[0:10]:\n",
    "    print(f'd: {d}, wrong predictions: {p[d]}')\n",
    "    show_image(trx[d])\n",
    "\n",
    "  ## print indices of images that are 7 but are predicted as 3 (assuming last 10 incorrect predictions are 7s)\n",
    "  for d, _ in zeroes[-10:]:\n",
    "    print(f'd: {d}, wrong predictions: {p[d]}')\n",
    "    show_image(trx[d])\n",
    "\n",
    "  # for i in range(0, 5):\n",
    "  #   print(f'i: {i}, 5 predictions: {p[i]}')\n",
    "  #   show_image(trx[i])\n",
    "\n",
    "images()"
   ]
  },
  {
   "cell_type": "code",
   "execution_count": 9,
   "metadata": {
    "id": "pz13tprtyrmY"
   },
   "outputs": [
    {
     "name": "stdout",
     "output_type": "stream",
     "text": [
      "nonzero: tensor([[ 1],\n",
      "        [ 3],\n",
      "        [ 4],\n",
      "        [ 5],\n",
      "        [ 7],\n",
      "        [ 8],\n",
      "        [ 9],\n",
      "        [10]])\n"
     ]
    },
    {
     "data": {
      "text/plain": [
       "(136, array([28, 32, 36, 40]), array([10, 26, 42, 58]))"
      ]
     },
     "execution_count": 9,
     "metadata": {},
     "output_type": "execute_result"
    }
   ],
   "source": [
    "## Rough work from here on\n",
    "\n",
    "## how do torch.nonzero() and tensor().linspace() work\n",
    "\n",
    "#??torch.nonzero\n",
    "t = tensor([0,1,0,2,2,3,0,1,1,1,1])\n",
    "print(f'nonzero: {torch.nonzero(t)}')\n",
    "\n",
    "#??torch.linspace\n",
    "a = torch.linspace(1, 9, steps=9).unsqueeze(1)\n",
    "print(f'a: {a}, a[0]: {a[0]}, a[1]: {a[1]}, a[0][0]: {a[0][0]}, a[0:3]: {a[0:3]}')\n",
    "\n",
    "a = np.array([[1, 2, 3, 4],\n",
    "              [5, 6, 7, 8],\n",
    "              [9, 10, 11, 12],\n",
    "              [13, 14, 15, 16]])\n",
    "a[0:3][0:3][0:3], a[0:3, 0:3]\n",
    "a.sum(), a.sum(0), a.sum(1)"
   ]
  },
  {
   "cell_type": "code",
   "execution_count": 10,
   "metadata": {
    "id": "khozH93J9Bs-"
   },
   "outputs": [
    {
     "name": "stdout",
     "output_type": "stream",
     "text": [
      "12396 torch.Size([12396, 784]) <class 'torch.Tensor'> 784 \n",
      " tensor([[0., 0., 0., 0., 0., 0., 0.],\n",
      "        [0., 0., 0., 0., 0., 0., 0.],\n",
      "        [0., 0., 0., 0., 0., 0., 0.]], device='cuda:0')\n",
      "12396 torch.Size([12396, 1]) <class 'torch.Tensor'> 1 tensor([[1],\n",
      "        [1],\n",
      "        [1]], device='cuda:0')\n",
      "784 torch.Size([784, 1]) <class 'torch.Tensor'> 1 tensor([[1.8423],\n",
      "        [0.5189]], device='cuda:0', grad_fn=<SliceBackward0>)\n"
     ]
    },
    {
     "data": {
      "text/plain": [
       "(12396,\n",
       " torch.Tensor,\n",
       " tensor([-0.2476, -0.3517,  0.8259,  0.0914,  0.2466, -0.9449, -0.2818], device='cuda:0', grad_fn=<SliceBackward0>))"
      ]
     },
     "execution_count": 10,
     "metadata": {},
     "output_type": "execute_result"
    }
   ],
   "source": [
    "print(len(train_x), train_x.shape, type(train_x), len(train_x[0]), '\\n', train_x[0:3, 0:7])\n",
    "print(len(train_y), train_y.shape, type(train_y), len(train_y[0]), train_y[0:3])\n",
    "print(len(w), w.shape, type(w), len(w[0]), w[0:2, 0:3])\n",
    "len(b), type(b), b[0:7]"
   ]
  },
  {
   "cell_type": "code",
   "execution_count": 11,
   "metadata": {
    "id": "LzlJN9-Pa1kG"
   },
   "outputs": [
    {
     "name": "stdout",
     "output_type": "stream",
     "text": [
      "a: tensor([[1.],\n",
      "        [1.],\n",
      "        [1.],\n",
      "        [1.]], requires_grad=True)\n",
      "a.grad_fn: None\n",
      "b.grad_fn: <AddBackward0 object at 0x7f56835dd780>\n",
      "c.grad_fn: <SumBackward1 object at 0x7f56835dd780>\n",
      "c: tensor([1., 1., 1., 1.], grad_fn=<SumBackward1>)\n",
      "d.grad_fn: <UnsqueezeBackward0 object at 0x7f56835ddf30>\n",
      "d: tensor([[1.],\n",
      "        [1.],\n",
      "        [1.],\n",
      "        [1.]], grad_fn=<UnsqueezeBackward0>)\n"
     ]
    }
   ],
   "source": [
    "## how are gradients tracked\n",
    "a = torch.ones((4,1), requires_grad=True)\n",
    "print(f'a: {a}')\n",
    "print(f'a.grad_fn: {a.grad_fn}')\n",
    "b = a + 1\n",
    "print(f'b.grad_fn: {b.grad_fn}')\n",
    "c = a.sum(1)\n",
    "print(f'c.grad_fn: {c.grad_fn}')\n",
    "print(f'c: {c}')\n",
    "d = c.unsqueeze(1)\n",
    "print(f'd.grad_fn: {d.grad_fn}')\n",
    "print(f'd: {d}')"
   ]
  }
 ],
 "metadata": {
  "colab": {
   "authorship_tag": "ABX9TyP/u4cg/mwnS/1TpKDUWSaT",
   "gpuType": "T4",
   "private_outputs": true,
   "provenance": []
  },
  "kernelspec": {
   "display_name": "Python 3 (ipykernel)",
   "language": "python",
   "name": "python3"
  },
  "language_info": {
   "codemirror_mode": {
    "name": "ipython",
    "version": 3
   },
   "file_extension": ".py",
   "mimetype": "text/x-python",
   "name": "python",
   "nbconvert_exporter": "python",
   "pygments_lexer": "ipython3",
   "version": "3.11.4"
  }
 },
 "nbformat": 4,
 "nbformat_minor": 4
}
