{
 "cells": [
  {
   "cell_type": "code",
   "execution_count": null,
   "metadata": {
    "colab": {
     "base_uri": "https://localhost:8080/"
    },
    "executionInfo": {
     "elapsed": 24218,
     "status": "ok",
     "timestamp": 1690471134248,
     "user": {
      "displayName": "Tabrez Iqbal",
      "userId": "00262139834775783575"
     },
     "user_tz": -330
    },
    "id": "6nOMlyGtBJbS",
    "outputId": "25312562-a26e-4d89-88d7-2724ffd1a5cf",
    "tags": []
   },
   "outputs": [],
   "source": [
    "!pip install -Uqq fastbook nbdev ipywidgets"
   ]
  },
  {
   "cell_type": "code",
   "execution_count": null,
   "metadata": {
    "colab": {
     "base_uri": "https://localhost:8080/",
     "height": 72
    },
    "executionInfo": {
     "elapsed": 196322,
     "status": "ok",
     "timestamp": 1690472198262,
     "user": {
      "displayName": "Tabrez Iqbal",
      "userId": "00262139834775783575"
     },
     "user_tz": -330
    },
    "id": "QnVrFCoE7aYB",
    "outputId": "032bbf64-d291-48d3-d4a8-fffc284292ff",
    "tags": []
   },
   "outputs": [],
   "source": [
    "import fastbook\n",
    "fastbook.setup_book()\n",
    "from fastbook import *\n",
    "from fastai.vision.widgets import *\n",
    "\n",
    "# from google.colab import drive\n",
    "# drive.mount('/content/gdrive')\n",
    "# BASE_DIR = '/content/gdrive/MyDrive/Colab Notebooks'\n",
    "\n",
    "device = torch.device('cuda:0' if torch.cuda.is_available() else 'cpu')\n",
    "\n",
    "path = untar_data(URLs.MNIST_SAMPLE)"
   ]
  },
  {
   "cell_type": "code",
   "execution_count": null,
   "metadata": {
    "executionInfo": {
     "elapsed": 66583,
     "status": "ok",
     "timestamp": 1690475878269,
     "user": {
      "displayName": "Tabrez Iqbal",
      "userId": "00262139834775783575"
     },
     "user_tz": -330
    },
    "id": "jtjsyJp5BIlM",
    "tags": []
   },
   "outputs": [],
   "source": [
    "def filesToStackedTensors(d1, d2):\n",
    "  t = [tensor(Image.open(f)).to(device) for f in (path/d1/d2).ls().sorted()]\n",
    "  return torch.stack(t).float()/255\n",
    "\n",
    "def x_y(stacked_x, stacked_y):\n",
    "  x = torch.cat([stacked_x, stacked_y]).view(-1, 28*28)\n",
    "  y = tensor([1]*len(stacked_x) + [0]*len(stacked_y)).unsqueeze(1).to(device)\n",
    "  return (x, y)\n",
    "\n",
    "train_x, train_y = x_y(filesToStackedTensors('train', '3'), \\\n",
    "                       filesToStackedTensors('train', '7'))\n",
    "valid_x, valid_y = x_y(filesToStackedTensors('valid', '3'), \\\n",
    "                       filesToStackedTensors('valid', '7'))\n",
    "\n",
    "dset = list(zip(train_x, train_y))\n",
    "valid_dset = list(zip(valid_x, valid_y))\n",
    "dl = DataLoader(dset, batch_size=255, shuffle=True)\n",
    "valid_dl = DataLoader(valid_dset, batch_size=255, shuffle=True)\n",
    "dls = DataLoaders(dl, valid_dl)"
   ]
  },
  {
   "cell_type": "code",
   "execution_count": null,
   "metadata": {
    "colab": {
     "base_uri": "https://localhost:8080/"
    },
    "executionInfo": {
     "elapsed": 1851,
     "status": "ok",
     "timestamp": 1690476732792,
     "user": {
      "displayName": "Tabrez Iqbal",
      "userId": "00262139834775783575"
     },
     "user_tz": -330
    },
    "id": "wVN5fojbHuff",
    "outputId": "99275873-a81f-4ba9-b5fb-ffabba95ce75",
    "tags": []
   },
   "outputs": [],
   "source": [
    "# model\n",
    "\n",
    "def linear1(x, w, b): return x@w + b\n",
    "\n",
    "# model parameters\n",
    "\n",
    "def init_params(size): return (torch.randn(size)).to(device).requires_grad_()\n",
    "\n",
    "# loss\n",
    "\n",
    "def loss(preds, y):\n",
    "  s = preds.sigmoid()\n",
    "  return torch.where((y == 1), 1-s, s).float().mean()\n",
    "\n",
    "# optimiser\n",
    "\n",
    "class BasicOptimiser:\n",
    "  def __init__(self, params, lr):\n",
    "    self.params = params\n",
    "    self.lr = lr\n",
    "\n",
    "  def step(self):\n",
    "    for p in self.params:\n",
    "      p.data = p.data - p.grad.data * self.lr\n",
    "\n",
    "  def zero_grad(self):\n",
    "    for p in self.params:\n",
    "      p.grad = None\n",
    "\n",
    "# metric\n",
    "\n",
    "def batch_accuracy(xb, yb):\n",
    "  p = xb.sigmoid()\n",
    "  return ((p > 0.5).float() == yb).float().mean()\n",
    "\n",
    "def batch_accuracy_dl(dl, model, w, b):\n",
    "  accs = [batch_accuracy(model(xb, w, b), yb) for xb, yb in dl]\n",
    "  return torch.stack(accs).mean()\n",
    "\n",
    "# fit\n",
    "\n",
    "def calc_gradient(xb, yb, model, w, b):\n",
    "    p = model(xb, w, b)\n",
    "    l = loss(p, yb)\n",
    "    l.backward()\n",
    "\n",
    "def train_epoch(dl, model, opt, w, b):\n",
    "  for xb, yb in dl:\n",
    "    calc_gradient(xb, yb, model, w, b)\n",
    "    opt.step()\n",
    "    opt.zero_grad()\n",
    "\n",
    "def train_model(dl, model, opt, n, w, b, pr=False):\n",
    "  for i in range(n):\n",
    "    train_epoch(dl, model, opt, w, b)\n",
    "    if pr:\n",
    "      print(f'acc after {i} epochs: {batch_accuracy_dl(dl, model, w, b)}')\n",
    "\n",
    "# putting it all together\n",
    "\n",
    "weights = init_params((28*28, 1))\n",
    "bias = init_params(1)\n",
    "lr = 0.1\n",
    "opt = BasicOptimiser((weights, bias), lr)\n",
    "train_model(dl, linear1, opt, 10, weights, bias, pr=True)\n",
    "\n",
    "# learner"
   ]
  },
  {
   "cell_type": "code",
   "execution_count": null,
   "metadata": {
    "colab": {
     "base_uri": "https://localhost:8080/"
    },
    "executionInfo": {
     "elapsed": 2782,
     "status": "ok",
     "timestamp": 1690481218388,
     "user": {
      "displayName": "Tabrez Iqbal",
      "userId": "00262139834775783575"
     },
     "user_tz": -330
    },
    "id": "vt5uMdMaN5kM",
    "outputId": "1c49f4a0-140e-461c-93cc-a3bc6bd5fe5f",
    "tags": []
   },
   "outputs": [],
   "source": [
    "# model\n",
    "\n",
    "# def model(xs, ys):\n",
    "#   def init_params(size): return (torch.randn(size)).to(device).requires_grad_()\n",
    "#   w = init_params(xs)\n",
    "#   b = init_params(ys)\n",
    "#   def linear1(x): return x@w + b\n",
    "#   return (linear1, (w, b))\n",
    "\n",
    "class Linear:\n",
    "  def init_params(size):\n",
    "    g = torch.Generator()\n",
    "    g.manual_seed(5)\n",
    "    return (torch.randn(size, generator=g)).to(device).requires_grad_()\n",
    "  def __init__(self, xsz, ysz):\n",
    "    w = init_params(xsz)\n",
    "    b = init_params(ysz)\n",
    "    self.parameters = [w, b]\n",
    "  def model(self):\n",
    "    return lambda xb: xb@self.parameters[0] + self.parameters[1]\n",
    "  def params(self):\n",
    "    return self.parameters\n",
    "\n",
    "def batch_accuracy_dl(dl, model):\n",
    "  accs = [batch_accuracy(model(xb), yb) for xb, yb in dl]\n",
    "  return torch.stack(accs).mean()\n",
    "\n",
    "# fit\n",
    "\n",
    "def calc_gradient(xb, yb, model):\n",
    "    p = model(xb)\n",
    "    l = loss(p, yb)\n",
    "    print(f'loss: {l}')\n",
    "    l.backward()\n",
    "\n",
    "def train_epoch(dl, model, opt):\n",
    "  for xb, yb in dl:\n",
    "    p = model(xb)\n",
    "    l = loss(p, yb)\n",
    "    # print(f'loss: {l}')\n",
    "    l.backward()\n",
    "    opt.step()\n",
    "    opt.zero_grad()\n",
    "\n",
    "def train_model(dl, model, opt, n, pr=False):\n",
    "  for i in range(n):\n",
    "    train_epoch(dl, model, opt)\n",
    "    if pr:\n",
    "      print(f'acc after {i} epochs: {batch_accuracy_dl(dl, model)}')\n",
    "\n",
    "# putting it all together\n",
    "\n",
    "lr = 1.\n",
    "linear1 = Linear((28*28, 1), 1)\n",
    "params = linear1.params()\n",
    "opt = BasicOptimiser(params, lr)\n",
    "train_model(dl, linear1.model(), opt, 10, pr=True)"
   ]
  },
  {
   "cell_type": "code",
   "execution_count": null,
   "metadata": {
    "colab": {
     "base_uri": "https://localhost:8080/"
    },
    "executionInfo": {
     "elapsed": 399,
     "status": "ok",
     "timestamp": 1690480005546,
     "user": {
      "displayName": "Tabrez Iqbal",
      "userId": "00262139834775783575"
     },
     "user_tz": -330
    },
    "id": "45yz7_yDYxFR",
    "outputId": "6e3d802d-80ba-495c-fafe-75a25e178de2",
    "tags": []
   },
   "outputs": [],
   "source": [
    "for x in (1,2,3,4):\n",
    "  print(x)"
   ]
  }
 ],
 "metadata": {
  "colab": {
   "authorship_tag": "ABX9TyObUh88/EhIAUBr1h/62/ZY",
   "provenance": []
  },
  "kernelspec": {
   "display_name": "Python 3 (ipykernel)",
   "language": "python",
   "name": "python3"
  },
  "language_info": {
   "codemirror_mode": {
    "name": "ipython",
    "version": 3
   },
   "file_extension": ".py",
   "mimetype": "text/x-python",
   "name": "python",
   "nbconvert_exporter": "python",
   "pygments_lexer": "ipython3",
   "version": "3.11.4"
  }
 },
 "nbformat": 4,
 "nbformat_minor": 4
}
