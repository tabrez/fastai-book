{
 "cells": [
  {
   "cell_type": "code",
   "execution_count": 4,
   "metadata": {
    "colab": {
     "base_uri": "https://localhost:8080/",
     "height": 385
    },
    "executionInfo": {
     "elapsed": 64128,
     "status": "ok",
     "timestamp": 1689694278437,
     "user": {
      "displayName": "Tabrez Iqbal",
      "userId": "00262139834775783575"
     },
     "user_tz": -330
    },
    "id": "3CwYXUMynauI",
    "outputId": "2340c348-5cf0-4403-833c-044c1a4a7a29",
    "tags": []
   },
   "outputs": [
    {
     "name": "stdout",
     "output_type": "stream",
     "text": [
      "cuda:0\n"
     ]
    }
   ],
   "source": [
    "#!pip install -Uqq fastbook ipywidgets nbdev\n",
    "\n",
    "import fastbook\n",
    "fastbook.setup_book()\n",
    "from fastbook import *\n",
    "from fastai.vision.widgets import *\n",
    "\n",
    "# from google.colab import drive\n",
    "# drive.mount('/content/gdrive', force_remount=True)\n",
    "# your drive home will be at /content/gdrive/MyDrive/\n",
    "# your notebooks might be at /content/gdrive/MyDrive/Colab Notebooks/\n",
    "# BASE_DIR = \"/content/gdrive/MyDrive/Colab Notebooks/\"\n",
    "BASE_DIR = \"./work\"\n",
    "\n",
    "# https://wandb.ai/wandb/common-ml-errors/reports/How-To-Use-GPU-with-PyTorch---VmlldzozMzAxMDk\n",
    "torch.cuda.is_available()\n",
    "device = torch.device(\"cuda:0\" if torch.cuda.is_available() else \"cpu\")\n",
    "print(device)\n",
    "\n",
    "path = untar_data(URLs.MNIST_SAMPLE, data=f\"{BASE_DIR}/data\")\n",
    "\n",
    "def filesToStackedTensors(d1, d2):\n",
    "  t = [tensor(Image.open(f)).to(device) for f in (path/d1/d2).ls().sorted()]\n",
    "  return torch.stack(t).float()/255\n",
    "\n",
    "def x_y(stacked_x, stacked_y):\n",
    "  x = torch.cat([stacked_x, stacked_y]).view(-1, 28*28)\n",
    "  y = tensor([1]*len(stacked_x) + [0]*len(stacked_y)).unsqueeze(1).to(device)\n",
    "  return (x, y)\n",
    "\n",
    "train_x, train_y = x_y(filesToStackedTensors('train', '3'), \\\n",
    "                       filesToStackedTensors('train', '7'))\n",
    "valid_x, valid_y = x_y(filesToStackedTensors('valid', '3'), \\\n",
    "                       filesToStackedTensors('valid', '7'))"
   ]
  },
  {
   "cell_type": "code",
   "execution_count": 1,
   "metadata": {
    "tags": []
   },
   "outputs": [
    {
     "ename": "NameError",
     "evalue": "name 'torch' is not defined",
     "output_type": "error",
     "traceback": [
      "\u001b[0;31m---------------------------------------------------------------------------\u001b[0m",
      "\u001b[0;31mNameError\u001b[0m                                 Traceback (most recent call last)",
      "Cell \u001b[0;32mIn[1], line 1\u001b[0m\n\u001b[0;32m----> 1\u001b[0m \u001b[43mtorch\u001b[49m\u001b[38;5;241m.\u001b[39mcuda\u001b[38;5;241m.\u001b[39mis_available() \n\u001b[1;32m      2\u001b[0m \u001b[38;5;66;03m# how does multiplication work with tensors\u001b[39;00m\n\u001b[1;32m      3\u001b[0m a1 \u001b[38;5;241m=\u001b[39m tensor([\u001b[38;5;241m1\u001b[39m, \u001b[38;5;241m2\u001b[39m, \u001b[38;5;241m3\u001b[39m])\n",
      "\u001b[0;31mNameError\u001b[0m: name 'torch' is not defined"
     ]
    }
   ],
   "source": [
    "torch.cuda.is_available() \n",
    "# how does multiplication work with tensors\n",
    "a1 = tensor([1, 2, 3])\n",
    "b1 = tensor([4, 4, 4])\n",
    "print(f'b.T: {b1.T}, a1 * b1.T: {a1 * b1.T}')\n",
    "b2 = tensor([[4],[4],[4]])\n",
    "print(f'b.T: {b2.T}, a1 * b2.T: {a1 * b2.T}')\n",
    "\n",
    "a2 = tensor([[1,2,3]])\n",
    "a3 = tensor([[[1,2,3]]])\n",
    "print(f'a2 * b2.T: {a2 * b2.T}')\n",
    "print(f'a3 * b2.T: {a3 * b2.T}')\n",
    "\n",
    "# can't multiply if sizes don't match\n",
    "# b3 = tensor([1,2,3,4])\n",
    "# a1 * b3, a1 * b3.T"
   ]
  },
  {
   "cell_type": "code",
   "execution_count": 5,
   "metadata": {
    "colab": {
     "base_uri": "https://localhost:8080/"
    },
    "executionInfo": {
     "elapsed": 418,
     "status": "ok",
     "timestamp": 1689695429620,
     "user": {
      "displayName": "Tabrez Iqbal",
      "userId": "00262139834775783575"
     },
     "user_tz": -330
    },
    "id": "dF4E0hOpoXfL",
    "outputId": "90c18a3f-63c6-44c6-cbc1-4c93cdaafab1",
    "tags": []
   },
   "outputs": [
    {
     "name": "stdout",
     "output_type": "stream",
     "text": [
      "weights.shape: torch.Size([784, 1])\n",
      "weights[0:3]: tensor([[1.9269],\n",
      "        [1.4873],\n",
      "        [0.9007]], grad_fn=<SliceBackward0>)\n",
      "train_x shape: torch.Size([12396, 784])\n",
      "train_x[0] shape: torch.Size([784])\n",
      "train_x[0][0:3] shape: tensor([0., 0., 0.])\n",
      "train_x[0] shape: torch.Size([784])\n"
     ]
    }
   ],
   "source": [
    "def init_params(size, std=1.0): return (torch.randn(size) * std).to(device).requires_grad_()\n",
    "weights = init_params((28*28, 1))\n",
    "print(f'weights.shape: {weights.shape}')\n",
    "print(f'weights[0:3]: {weights[0:3]}')\n",
    "bias = init_params(1)\n",
    "bias\n",
    "\n",
    "# x = train_x[0].unsqueeze(0)\n",
    "print(f'train_x shape: {train_x.shape}')\n",
    "print(f'train_x[0] shape: {train_x[0].shape}')\n",
    "print(f'train_x[0][0:3] shape: {train_x[0][0:3]}')\n",
    "print(f'train_x[0] shape: {train_x[0].shape}')\n",
    "prediction = (train_x[0]*weights.T).sum() + bias\n",
    "prediction\n",
    "# def linear1(xb): return xb@weights + bias\n",
    "# preds = linear1(train_x)\n",
    "# preds.shape, preds\n",
    "\n",
    "#??zip\n",
    "dset = list(zip(train_x, train_y))\n",
    "x, y = dset[0]\n",
    "x.shape, y\n",
    "len(dset), type(dset), type(dset[0]), type(dset[0][0]), len(dset[0][0]), type(dset[0][1])\n",
    "valid_dset = list(zip(valid_x, valid_y))"
   ]
  }
 ],
 "metadata": {
  "colab": {
   "authorship_tag": "ABX9TyMN1NFoLDM1xDxN0iCN46jw",
   "gpuType": "T4",
   "provenance": []
  },
  "kernelspec": {
   "display_name": "Python 3 (ipykernel)",
   "language": "python",
   "name": "python3"
  },
  "language_info": {
   "codemirror_mode": {
    "name": "ipython",
    "version": 3
   },
   "file_extension": ".py",
   "mimetype": "text/x-python",
   "name": "python",
   "nbconvert_exporter": "python",
   "pygments_lexer": "ipython3",
   "version": "3.11.4"
  }
 },
 "nbformat": 4,
 "nbformat_minor": 4
}
